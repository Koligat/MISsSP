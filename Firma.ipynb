{
 "cells": [
  {
   "cell_type": "code",
   "execution_count": 5,
   "metadata": {},
   "outputs": [
    {
     "name": "stdout",
     "output_type": "stream",
     "text": [
      "Status: Optimal\n",
      "DH_czw = 2.0\n",
      "DH_wt = 0.0\n",
      "HB_pn = 4.0\n",
      "HB_pt = 3.0\n",
      "HB_sr = 4.0\n",
      "HB_wt = 5.0\n",
      "KC_pn = 1.0\n",
      "KC_pt = 0.0\n",
      "KC_sr = 6.0\n",
      "KS_czw = 2.0\n",
      "KS_pon = 0.0\n",
      "NK_czw = 6.0\n",
      "NK_pt = 2.0\n",
      "SC_pon = 5.0\n",
      "SC_pt = 5.0\n",
      "SC_wt = 5.0\n",
      "Calkowity koszt pracownikow =  1172.0\n",
      "Godziny pracy NK = 8.0\n",
      "Godziny pracy DH = 2.0\n",
      "Godziny pracy HB = 16.0\n",
      "Godziny pracy KC = 7.0\n",
      "Godziny pracy KS = 2.0\n",
      "Godziny pracy SC = 15.0\n"
     ]
    }
   ],
   "source": [
    "from pulp import *\n",
    "prob = LpProblem(\"The Problem\",LpMinimize)\n",
    "\n",
    "Employees = ['KC', 'DH', 'HB', 'SC', 'KS', 'NK']\n",
    "\n",
    "monday = {'KC' : 6,\n",
    "          'DH' : 0,\n",
    "          'HB' : 4,\n",
    "          'SC' : 5,\n",
    "          'KS' : 4,\n",
    "          'NK' : 6,\n",
    "    \n",
    "}\n",
    "\n",
    "KCpon = LpVariable(\"KC pn\", 0, 6, cat = 'Integer')\n",
    "KCsr = LpVariable(\"KC sr\", 0, 6, cat = 'Integer')\n",
    "KCpt = LpVariable(\"KC pt\", 0, 6, cat = 'Integer')\n",
    "DHwt = LpVariable(\"DH wt\", 0, 6, cat = 'Integer')\n",
    "DHczw = LpVariable(\"DH czw\", 0, 6, cat = 'Integer')\n",
    "HBpon = LpVariable(\"HB pn\", 0, 4, cat = 'Integer')\n",
    "HBwt = LpVariable(\"HB wt\", 0, 8, cat = 'Integer')\n",
    "HBsr = LpVariable(\"HB sr\", 0, 4, cat = 'Integer')\n",
    "HBpt = LpVariable(\"HB pt\", 0, 4, cat = 'Integer')\n",
    "SCpon = LpVariable(\"SC pon\", 0, 5, cat = 'Integer')\n",
    "SCwt = LpVariable(\"SC wt\", 0, 5, cat = 'Integer')\n",
    "SCpt = LpVariable(\"SC pt\", 0, 5, cat = 'Integer')\n",
    "KSpon = LpVariable(\"KS pon\", 0, 3, cat = 'Integer')\n",
    "KSczw = LpVariable(\"KS czw\", 0, 8, cat = 'Integer')\n",
    "NKczw = LpVariable(\"NK czw\", 0, 6, cat = 'Integer')\n",
    "NKpt = LpVariable(\"NK pt\", 0, 2, cat = 'Integer')\n",
    "\n",
    "# main problem - company's benefit\n",
    "prob += 25*(KCpon+KCsr+KCpt) + 26*(DHwt+DHczw) + 24*(HBpon + HBwt + HBsr + HBpt) + 23*(SCpon + SCwt + SCpt) +28*(KSpon+KSczw) +20*(NKczw + NKpt)\n",
    "#constraints \n",
    "prob += KCpon + HBpon + SCpon + KSpon >= 10\n",
    "prob += DHwt + HBwt + SCwt >= 10\n",
    "prob += KCsr + HBsr >= 10\n",
    "prob += DHczw + KSczw + NKczw >= 10\n",
    "prob += KCpt + HBpt + SCpt + NKpt >= 10\n",
    "prob += KSczw + KSpon >= 2\n",
    "\n",
    "\n",
    "# The problem data is written to an .lp file\n",
    "prob.writeLP(\"TheProblem.lp\")\n",
    "# The problem is solved using PuLP's choice of Solver\n",
    "prob.solve()\n",
    "# The status of the solution is printed to the screen\n",
    "print(\"Status:\", LpStatus[prob.status])\n",
    "# Each of the variables is printed with it's resolved optimum value\n",
    "for v in prob.variables():\n",
    "    print(v.name, \"=\", v.varValue)\n",
    "# The optimised objective function value is printed to the screen\n",
    "print(\"Calkowity koszt pracownikow = \", value(prob.objective))\n",
    "print(\"Godziny pracy NK =\", value(NKpt+NKczw))\n",
    "print(\"Godziny pracy DH =\", value(DHwt+DHczw))\n",
    "print(\"Godziny pracy HB =\", value(HBpt+HBsr+HBwt+HBpon))\n",
    "print(\"Godziny pracy KC =\", value(KCpon+KCsr+KCpt))\n",
    "print(\"Godziny pracy KS =\", value(KSpon+KSczw))\n",
    "print(\"Godziny pracy SC =\", value(SCpon+SCwt+SCpt))"
   ]
  },
  {
   "cell_type": "code",
   "execution_count": null,
   "metadata": {},
   "outputs": [],
   "source": []
  },
  {
   "cell_type": "code",
   "execution_count": null,
   "metadata": {},
   "outputs": [],
   "source": []
  },
  {
   "cell_type": "code",
   "execution_count": null,
   "metadata": {},
   "outputs": [],
   "source": []
  }
 ],
 "metadata": {
  "kernelspec": {
   "display_name": "Python 3",
   "language": "python",
   "name": "python3"
  },
  "language_info": {
   "codemirror_mode": {
    "name": "ipython",
    "version": 3
   },
   "file_extension": ".py",
   "mimetype": "text/x-python",
   "name": "python",
   "nbconvert_exporter": "python",
   "pygments_lexer": "ipython3",
   "version": "3.5.2"
  }
 },
 "nbformat": 4,
 "nbformat_minor": 2
}
